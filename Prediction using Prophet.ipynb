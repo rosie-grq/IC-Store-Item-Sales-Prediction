{
 "cells": [
  {
   "cell_type": "markdown",
   "metadata": {},
   "source": [
    "# Project Summary\n",
    "\n",
    "The goal of the project is to predict 1 month ahead store-item level monthly sales for IC Company. In this notebook, company sales and store sales based on monthly and daily data are forecasted using the Prophet package. Historical weights are assigned to items to make item-level predictions. Parameters of the models are tuned using cross validation. Models are evaluated using expanding windows and the best prediction model is selected."
   ]
  },
  {
   "cell_type": "code",
   "execution_count": 1,
   "metadata": {},
   "outputs": [],
   "source": [
    "import numpy as np\n",
    "import pandas as pd\n",
    "import matplotlib.pyplot as plt\n",
    "import seaborn as sns\n",
    "from datetime import datetime \n",
    "import itertools"
   ]
  },
  {
   "cell_type": "code",
   "execution_count": 2,
   "metadata": {},
   "outputs": [],
   "source": [
    "from fbprophet import Prophet\n",
    "from fbprophet.diagnostics import cross_validation\n",
    "from fbprophet.diagnostics import performance_metrics\n",
    "from fbprophet.plot import plot_cross_validation_metric\n",
    "from fbprophet.plot import plot_yearly"
   ]
  },
  {
   "cell_type": "code",
   "execution_count": 3,
   "metadata": {},
   "outputs": [],
   "source": [
    "import time\n",
    "import tqdm"
   ]
  },
  {
   "cell_type": "code",
   "execution_count": 4,
   "metadata": {},
   "outputs": [
    {
     "data": {
      "text/html": [
       "<div>\n",
       "<style scoped>\n",
       "    .dataframe tbody tr th:only-of-type {\n",
       "        vertical-align: middle;\n",
       "    }\n",
       "\n",
       "    .dataframe tbody tr th {\n",
       "        vertical-align: top;\n",
       "    }\n",
       "\n",
       "    .dataframe thead th {\n",
       "        text-align: right;\n",
       "    }\n",
       "</style>\n",
       "<table border=\"1\" class=\"dataframe\">\n",
       "  <thead>\n",
       "    <tr style=\"text-align: right;\">\n",
       "      <th></th>\n",
       "      <th>year_month</th>\n",
       "      <th>item_cnt_day</th>\n",
       "    </tr>\n",
       "  </thead>\n",
       "  <tbody>\n",
       "    <tr>\n",
       "      <th>0</th>\n",
       "      <td>2013-01</td>\n",
       "      <td>113903.0</td>\n",
       "    </tr>\n",
       "    <tr>\n",
       "      <th>1</th>\n",
       "      <td>2013-02</td>\n",
       "      <td>130610.0</td>\n",
       "    </tr>\n",
       "    <tr>\n",
       "      <th>2</th>\n",
       "      <td>2013-03</td>\n",
       "      <td>131621.0</td>\n",
       "    </tr>\n",
       "    <tr>\n",
       "      <th>3</th>\n",
       "      <td>2013-04</td>\n",
       "      <td>104586.0</td>\n",
       "    </tr>\n",
       "    <tr>\n",
       "      <th>4</th>\n",
       "      <td>2013-05</td>\n",
       "      <td>109274.0</td>\n",
       "    </tr>\n",
       "  </tbody>\n",
       "</table>\n",
       "</div>"
      ],
      "text/plain": [
       "  year_month  item_cnt_day\n",
       "0    2013-01      113903.0\n",
       "1    2013-02      130610.0\n",
       "2    2013-03      131621.0\n",
       "3    2013-04      104586.0\n",
       "4    2013-05      109274.0"
      ]
     },
     "execution_count": 4,
     "metadata": {},
     "output_type": "execute_result"
    }
   ],
   "source": [
    "ts_m=pd.read_csv('company_monthly.csv')\n",
    "ts_m.head()"
   ]
  },
  {
   "cell_type": "code",
   "execution_count": 5,
   "metadata": {},
   "outputs": [
    {
     "data": {
      "text/html": [
       "<div>\n",
       "<style scoped>\n",
       "    .dataframe tbody tr th:only-of-type {\n",
       "        vertical-align: middle;\n",
       "    }\n",
       "\n",
       "    .dataframe tbody tr th {\n",
       "        vertical-align: top;\n",
       "    }\n",
       "\n",
       "    .dataframe thead th {\n",
       "        text-align: right;\n",
       "    }\n",
       "</style>\n",
       "<table border=\"1\" class=\"dataframe\">\n",
       "  <thead>\n",
       "    <tr style=\"text-align: right;\">\n",
       "      <th></th>\n",
       "      <th>date</th>\n",
       "      <th>item_cnt_day</th>\n",
       "    </tr>\n",
       "  </thead>\n",
       "  <tbody>\n",
       "    <tr>\n",
       "      <th>0</th>\n",
       "      <td>2013-01-01</td>\n",
       "      <td>1951.0</td>\n",
       "    </tr>\n",
       "    <tr>\n",
       "      <th>1</th>\n",
       "      <td>2013-01-02</td>\n",
       "      <td>3817.0</td>\n",
       "    </tr>\n",
       "    <tr>\n",
       "      <th>2</th>\n",
       "      <td>2013-01-03</td>\n",
       "      <td>3500.0</td>\n",
       "    </tr>\n",
       "    <tr>\n",
       "      <th>3</th>\n",
       "      <td>2013-01-04</td>\n",
       "      <td>2368.0</td>\n",
       "    </tr>\n",
       "    <tr>\n",
       "      <th>4</th>\n",
       "      <td>2013-01-05</td>\n",
       "      <td>4662.0</td>\n",
       "    </tr>\n",
       "  </tbody>\n",
       "</table>\n",
       "</div>"
      ],
      "text/plain": [
       "         date  item_cnt_day\n",
       "0  2013-01-01        1951.0\n",
       "1  2013-01-02        3817.0\n",
       "2  2013-01-03        3500.0\n",
       "3  2013-01-04        2368.0\n",
       "4  2013-01-05        4662.0"
      ]
     },
     "execution_count": 5,
     "metadata": {},
     "output_type": "execute_result"
    }
   ],
   "source": [
    "ts_d=pd.read_csv('company_daily.csv')\n",
    "ts_d.head()"
   ]
  },
  {
   "cell_type": "markdown",
   "metadata": {},
   "source": [
    "## Prophet"
   ]
  },
  {
   "cell_type": "markdown",
   "metadata": {},
   "source": [
    "### Prediction for Company Level- Monthly Data and Daily Data"
   ]
  },
  {
   "cell_type": "code",
   "execution_count": 6,
   "metadata": {},
   "outputs": [
    {
     "data": {
      "text/html": [
       "<div>\n",
       "<style scoped>\n",
       "    .dataframe tbody tr th:only-of-type {\n",
       "        vertical-align: middle;\n",
       "    }\n",
       "\n",
       "    .dataframe tbody tr th {\n",
       "        vertical-align: top;\n",
       "    }\n",
       "\n",
       "    .dataframe thead th {\n",
       "        text-align: right;\n",
       "    }\n",
       "</style>\n",
       "<table border=\"1\" class=\"dataframe\">\n",
       "  <thead>\n",
       "    <tr style=\"text-align: right;\">\n",
       "      <th></th>\n",
       "      <th>ds</th>\n",
       "      <th>y</th>\n",
       "    </tr>\n",
       "  </thead>\n",
       "  <tbody>\n",
       "    <tr>\n",
       "      <th>0</th>\n",
       "      <td>2013-01-01</td>\n",
       "      <td>113903.0</td>\n",
       "    </tr>\n",
       "    <tr>\n",
       "      <th>1</th>\n",
       "      <td>2013-02-01</td>\n",
       "      <td>130610.0</td>\n",
       "    </tr>\n",
       "    <tr>\n",
       "      <th>2</th>\n",
       "      <td>2013-03-01</td>\n",
       "      <td>131621.0</td>\n",
       "    </tr>\n",
       "    <tr>\n",
       "      <th>3</th>\n",
       "      <td>2013-04-01</td>\n",
       "      <td>104586.0</td>\n",
       "    </tr>\n",
       "    <tr>\n",
       "      <th>4</th>\n",
       "      <td>2013-05-01</td>\n",
       "      <td>109274.0</td>\n",
       "    </tr>\n",
       "  </tbody>\n",
       "</table>\n",
       "</div>"
      ],
      "text/plain": [
       "          ds         y\n",
       "0 2013-01-01  113903.0\n",
       "1 2013-02-01  130610.0\n",
       "2 2013-03-01  131621.0\n",
       "3 2013-04-01  104586.0\n",
       "4 2013-05-01  109274.0"
      ]
     },
     "execution_count": 6,
     "metadata": {},
     "output_type": "execute_result"
    }
   ],
   "source": [
    "ts_m['year_month']=pd.to_datetime(ts_m.year_month)\n",
    "ts_m.columns=['ds','y']\n",
    "ts_m.head()"
   ]
  },
  {
   "cell_type": "code",
   "execution_count": 7,
   "metadata": {},
   "outputs": [
    {
     "name": "stderr",
     "output_type": "stream",
     "text": [
      "INFO:numexpr.utils:Note: NumExpr detected 12 cores but \"NUMEXPR_MAX_THREADS\" not set, so enforcing safe limit of 8.\n",
      "INFO:numexpr.utils:NumExpr defaulting to 8 threads.\n",
      "INFO:fbprophet:Disabling weekly seasonality. Run prophet with weekly_seasonality=True to override this.\n",
      "INFO:fbprophet:Disabling daily seasonality. Run prophet with daily_seasonality=True to override this.\n"
     ]
    },
    {
     "data": {
      "text/plain": [
       "<fbprophet.forecaster.Prophet at 0x7faa0d7f0a90>"
      ]
     },
     "execution_count": 7,
     "metadata": {},
     "output_type": "execute_result"
    }
   ],
   "source": [
    "model = Prophet(yearly_seasonality=True)\n",
    "model.fit(ts_m) "
   ]
  },
  {
   "cell_type": "code",
   "execution_count": 8,
   "metadata": {},
   "outputs": [
    {
     "data": {
      "text/html": [
       "<div>\n",
       "<style scoped>\n",
       "    .dataframe tbody tr th:only-of-type {\n",
       "        vertical-align: middle;\n",
       "    }\n",
       "\n",
       "    .dataframe tbody tr th {\n",
       "        vertical-align: top;\n",
       "    }\n",
       "\n",
       "    .dataframe thead th {\n",
       "        text-align: right;\n",
       "    }\n",
       "</style>\n",
       "<table border=\"1\" class=\"dataframe\">\n",
       "  <thead>\n",
       "    <tr style=\"text-align: right;\">\n",
       "      <th></th>\n",
       "      <th>ds</th>\n",
       "      <th>yhat</th>\n",
       "      <th>yhat_lower</th>\n",
       "      <th>yhat_upper</th>\n",
       "    </tr>\n",
       "  </thead>\n",
       "  <tbody>\n",
       "    <tr>\n",
       "      <th>30</th>\n",
       "      <td>2015-07-01</td>\n",
       "      <td>61653.218081</td>\n",
       "      <td>57844.417309</td>\n",
       "      <td>65540.759909</td>\n",
       "    </tr>\n",
       "    <tr>\n",
       "      <th>31</th>\n",
       "      <td>2015-08-01</td>\n",
       "      <td>67567.235797</td>\n",
       "      <td>64159.663798</td>\n",
       "      <td>71123.580895</td>\n",
       "    </tr>\n",
       "    <tr>\n",
       "      <th>32</th>\n",
       "      <td>2015-09-01</td>\n",
       "      <td>61513.844760</td>\n",
       "      <td>57866.207039</td>\n",
       "      <td>65253.645094</td>\n",
       "    </tr>\n",
       "    <tr>\n",
       "      <th>33</th>\n",
       "      <td>2015-10-01</td>\n",
       "      <td>56818.683898</td>\n",
       "      <td>52939.999243</td>\n",
       "      <td>60680.273953</td>\n",
       "    </tr>\n",
       "    <tr>\n",
       "      <th>34</th>\n",
       "      <td>2015-11-01</td>\n",
       "      <td>86407.964166</td>\n",
       "      <td>82679.548092</td>\n",
       "      <td>90023.282966</td>\n",
       "    </tr>\n",
       "  </tbody>\n",
       "</table>\n",
       "</div>"
      ],
      "text/plain": [
       "           ds          yhat    yhat_lower    yhat_upper\n",
       "30 2015-07-01  61653.218081  57844.417309  65540.759909\n",
       "31 2015-08-01  67567.235797  64159.663798  71123.580895\n",
       "32 2015-09-01  61513.844760  57866.207039  65253.645094\n",
       "33 2015-10-01  56818.683898  52939.999243  60680.273953\n",
       "34 2015-11-01  86407.964166  82679.548092  90023.282966"
      ]
     },
     "execution_count": 8,
     "metadata": {},
     "output_type": "execute_result"
    }
   ],
   "source": [
    "future = model.make_future_dataframe(periods = 1, freq = 'MS')  \n",
    "forecast = model.predict(future)\n",
    "forecast[['ds', 'yhat', 'yhat_lower', 'yhat_upper']].tail()"
   ]
  },
  {
   "cell_type": "code",
   "execution_count": 9,
   "metadata": {},
   "outputs": [
    {
     "data": {
      "image/png": "[encoded data removed]",
      "text/plain": [
       "<Figure size 720x432 with 1 Axes>"
      ]
     },
     "metadata": {},
     "output_type": "display_data"
    }
   ],
   "source": [
    "model.plot(forecast);"
   ]
  },
  {
   "cell_type": "code",
   "execution_count": 10,
   "metadata": {},
   "outputs": [
    {
     "data": {
      "image/png": "[encoded data removed]",
      "text/plain": [
       "<Figure size 648x432 with 2 Axes>"
      ]
     },
     "metadata": {},
     "output_type": "display_data"
    }
   ],
   "source": [
    "model.plot_components(forecast);"
   ]
  },
  {
   "cell_type": "code",
   "execution_count": 11,
   "metadata": {
    "scrolled": true
   },
   "outputs": [
    {
     "name": "stderr",
     "output_type": "stream",
     "text": [
      "INFO:fbprophet:Disabling weekly seasonality. Run prophet with weekly_seasonality=True to override this.\n",
      "INFO:fbprophet:Disabling daily seasonality. Run prophet with daily_seasonality=True to override this.\n",
      "INFO:fbprophet:Making 2 forecasts with cutoffs between 2014-04-04 00:00:00 and 2014-10-01 00:00:00\n",
      "INFO:fbprophet:n_changepoints greater than number of observations. Using 11.\n",
      "INFO:fbprophet:n_changepoints greater than number of observations. Using 16.\n",
      "INFO:fbprophet:Disabling weekly seasonality. Run prophet with weekly_seasonality=True to override this.\n",
      "INFO:fbprophet:Disabling daily seasonality. Run prophet with daily_seasonality=True to override this.\n",
      "INFO:fbprophet:Making 2 forecasts with cutoffs between 2014-04-04 00:00:00 and 2014-10-01 00:00:00\n",
      "INFO:fbprophet:n_changepoints greater than number of observations. Using 11.\n",
      "INFO:fbprophet:n_changepoints greater than number of observations. Using 16.\n",
      "INFO:fbprophet:Disabling weekly seasonality. Run prophet with weekly_seasonality=True to override this.\n",
      "INFO:fbprophet:Disabling daily seasonality. Run prophet with daily_seasonality=True to override this.\n",
      "INFO:fbprophet:Making 2 forecasts with cutoffs between 2014-04-04 00:00:00 and 2014-10-01 00:00:00\n",
      "INFO:fbprophet:n_changepoints greater than number of observations. Using 11.\n",
      "INFO:fbprophet:n_changepoints greater than number of observations. Using 16.\n",
      "INFO:fbprophet:Disabling weekly seasonality. Run prophet with weekly_seasonality=True to override this.\n",
      "INFO:fbprophet:Disabling daily seasonality. Run prophet with daily_seasonality=True to override this.\n",
      "INFO:fbprophet:Making 2 forecasts with cutoffs between 2014-04-04 00:00:00 and 2014-10-01 00:00:00\n",
      "INFO:fbprophet:n_changepoints greater than number of observations. Using 11.\n",
      "INFO:fbprophet:n_changepoints greater than number of observations. Using 16.\n",
      "INFO:fbprophet:Disabling weekly seasonality. Run prophet with weekly_seasonality=True to override this.\n",
      "INFO:fbprophet:Disabling daily seasonality. Run prophet with daily_seasonality=True to override this.\n",
      "INFO:fbprophet:Making 2 forecasts with cutoffs between 2014-04-04 00:00:00 and 2014-10-01 00:00:00\n",
      "INFO:fbprophet:n_changepoints greater than number of observations. Using 11.\n",
      "INFO:fbprophet:n_changepoints greater than number of observations. Using 16.\n",
      "INFO:fbprophet:Disabling weekly seasonality. Run prophet with weekly_seasonality=True to override this.\n",
      "INFO:fbprophet:Disabling daily seasonality. Run prophet with daily_seasonality=True to override this.\n",
      "INFO:fbprophet:Making 2 forecasts with cutoffs between 2014-04-04 00:00:00 and 2014-10-01 00:00:00\n",
      "INFO:fbprophet:n_changepoints greater than number of observations. Using 11.\n",
      "INFO:fbprophet:n_changepoints greater than number of observations. Using 16.\n",
      "INFO:fbprophet:Disabling weekly seasonality. Run prophet with weekly_seasonality=True to override this.\n",
      "INFO:fbprophet:Disabling daily seasonality. Run prophet with daily_seasonality=True to override this.\n",
      "INFO:fbprophet:Making 2 forecasts with cutoffs between 2014-04-04 00:00:00 and 2014-10-01 00:00:00\n",
      "INFO:fbprophet:n_changepoints greater than number of observations. Using 11.\n",
      "INFO:fbprophet:n_changepoints greater than number of observations. Using 16.\n",
      "INFO:fbprophet:Disabling weekly seasonality. Run prophet with weekly_seasonality=True to override this.\n",
      "INFO:fbprophet:Disabling daily seasonality. Run prophet with daily_seasonality=True to override this.\n",
      "INFO:fbprophet:Making 2 forecasts with cutoffs between 2014-04-04 00:00:00 and 2014-10-01 00:00:00\n",
      "INFO:fbprophet:n_changepoints greater than number of observations. Using 11.\n",
      "INFO:fbprophet:n_changepoints greater than number of observations. Using 16.\n",
      "INFO:fbprophet:Disabling weekly seasonality. Run prophet with weekly_seasonality=True to override this.\n",
      "INFO:fbprophet:Disabling daily seasonality. Run prophet with daily_seasonality=True to override this.\n",
      "INFO:fbprophet:Making 2 forecasts with cutoffs between 2014-04-04 00:00:00 and 2014-10-01 00:00:00\n",
      "INFO:fbprophet:n_changepoints greater than number of observations. Using 11.\n",
      "INFO:fbprophet:n_changepoints greater than number of observations. Using 16.\n",
      "INFO:fbprophet:Disabling weekly seasonality. Run prophet with weekly_seasonality=True to override this.\n",
      "INFO:fbprophet:Disabling daily seasonality. Run prophet with daily_seasonality=True to override this.\n",
      "INFO:fbprophet:Making 2 forecasts with cutoffs between 2014-04-04 00:00:00 and 2014-10-01 00:00:00\n",
      "INFO:fbprophet:n_changepoints greater than number of observations. Using 11.\n",
      "INFO:fbprophet:n_changepoints greater than number of observations. Using 16.\n",
      "INFO:fbprophet:Disabling weekly seasonality. Run prophet with weekly_seasonality=True to override this.\n",
      "INFO:fbprophet:Disabling daily seasonality. Run prophet with daily_seasonality=True to override this.\n",
      "INFO:fbprophet:Making 2 forecasts with cutoffs between 2014-04-04 00:00:00 and 2014-10-01 00:00:00\n",
      "INFO:fbprophet:n_changepoints greater than number of observations. Using 11.\n",
      "INFO:fbprophet:n_changepoints greater than number of observations. Using 16.\n",
      "INFO:fbprophet:Disabling weekly seasonality. Run prophet with weekly_seasonality=True to override this.\n",
      "INFO:fbprophet:Disabling daily seasonality. Run prophet with daily_seasonality=True to override this.\n",
      "INFO:fbprophet:Making 2 forecasts with cutoffs between 2014-04-04 00:00:00 and 2014-10-01 00:00:00\n",
      "INFO:fbprophet:n_changepoints greater than number of observations. Using 11.\n",
      "INFO:fbprophet:n_changepoints greater than number of observations. Using 16.\n",
      "INFO:fbprophet:Disabling weekly seasonality. Run prophet with weekly_seasonality=True to override this.\n",
      "INFO:fbprophet:Disabling daily seasonality. Run prophet with daily_seasonality=True to override this.\n",
      "INFO:fbprophet:Making 2 forecasts with cutoffs between 2014-04-04 00:00:00 and 2014-10-01 00:00:00\n",
      "INFO:fbprophet:n_changepoints greater than number of observations. Using 11.\n",
      "INFO:fbprophet:n_changepoints greater than number of observations. Using 16.\n",
      "INFO:fbprophet:Disabling weekly seasonality. Run prophet with weekly_seasonality=True to override this.\n",
      "INFO:fbprophet:Disabling daily seasonality. Run prophet with daily_seasonality=True to override this.\n",
      "INFO:fbprophet:Making 2 forecasts with cutoffs between 2014-04-04 00:00:00 and 2014-10-01 00:00:00\n",
      "INFO:fbprophet:n_changepoints greater than number of observations. Using 11.\n",
      "INFO:fbprophet:n_changepoints greater than number of observations. Using 16.\n",
      "INFO:fbprophet:Disabling weekly seasonality. Run prophet with weekly_seasonality=True to override this.\n",
      "INFO:fbprophet:Disabling daily seasonality. Run prophet with daily_seasonality=True to override this.\n",
      "INFO:fbprophet:Making 2 forecasts with cutoffs between 2014-04-04 00:00:00 and 2014-10-01 00:00:00\n",
      "INFO:fbprophet:n_changepoints greater than number of observations. Using 11.\n",
      "INFO:fbprophet:n_changepoints greater than number of observations. Using 16.\n",
      "INFO:fbprophet:Disabling weekly seasonality. Run prophet with weekly_seasonality=True to override this.\n",
      "INFO:fbprophet:Disabling daily seasonality. Run prophet with daily_seasonality=True to override this.\n",
      "INFO:fbprophet:Making 2 forecasts with cutoffs between 2014-04-04 00:00:00 and 2014-10-01 00:00:00\n",
      "INFO:fbprophet:n_changepoints greater than number of observations. Using 11.\n",
      "INFO:fbprophet:n_changepoints greater than number of observations. Using 16.\n"
     ]
    },
    {
     "name": "stdout",
     "output_type": "stream",
     "text": [
      "    changepoint_prior_scale  seasonality_prior_scale           rmse\n",
      "0                     0.001                     0.01   21734.063562\n",
      "1                     0.001                     0.10   10891.278828\n",
      "2                     0.001                     1.00   17669.850304\n",
      "3                     0.001                    10.00   15358.686148\n",
      "4                     0.010                     0.01   21707.897835\n",
      "5                     0.010                     0.10   10738.560364\n",
      "6                     0.010                     1.00    9050.307774\n",
      "7                     0.010                    10.00   36875.506022\n",
      "8                     0.100                     0.01   21677.702967\n",
      "9                     0.100                     0.10   11593.292162\n",
      "10                    0.100                     1.00   15430.159113\n",
      "11                    0.100                    10.00   10613.348334\n",
      "12                    0.500                     0.01   33850.074048\n",
      "13                    0.500                     0.10   12809.198623\n",
      "14                    0.500                     1.00   60367.057859\n",
      "15                    0.500                    10.00  159509.771408\n"
     ]
    }
   ],
   "source": [
    "#tune paraameters\n",
    "param_grid = {  \n",
    "    'changepoint_prior_scale': [0.001, 0.01, 0.1, 0.5],\n",
    "    'seasonality_prior_scale': [0.01, 0.1, 1.0, 10.0],\n",
    "}\n",
    "# Generate all combinations of parameters\n",
    "all_params = [dict(zip(param_grid.keys(), v)) for v in itertools.product(*param_grid.values())]\n",
    "rmses = []  # Store the RMSEs for each params here\n",
    "\n",
    "# Use cross validation to evaluate all parameters\n",
    "for params in all_params:\n",
    "    m = Prophet(**params).fit(ts_m)  # Fit model with given params\n",
    "    df_cv = cross_validation(m, initial='366 days', period='180 days',horizon='365 days')\n",
    "    df_p = performance_metrics(df_cv, rolling_window=1)\n",
    "    rmses.append(df_p['rmse'].values[0])\n",
    "\n",
    "# Find the best parameters\n",
    "tuning_results = pd.DataFrame(all_params)\n",
    "tuning_results['rmse'] = rmses\n",
    "print(tuning_results)"
   ]
  },
  {
   "cell_type": "code",
   "execution_count": 12,
   "metadata": {},
   "outputs": [
    {
     "name": "stdout",
     "output_type": "stream",
     "text": [
      "{'changepoint_prior_scale': 0.01, 'seasonality_prior_scale': 1.0}\n"
     ]
    }
   ],
   "source": [
    "best_params = all_params[np.argmin(rmses)]\n",
    "print(best_params)"
   ]
  },
  {
   "cell_type": "code",
   "execution_count": 13,
   "metadata": {
    "scrolled": true
   },
   "outputs": [
    {
     "name": "stderr",
     "output_type": "stream",
     "text": [
      "INFO:fbprophet:Disabling weekly seasonality. Run prophet with weekly_seasonality=True to override this.\n",
      "INFO:fbprophet:Disabling daily seasonality. Run prophet with daily_seasonality=True to override this.\n"
     ]
    },
    {
     "data": {
      "text/html": [
       "<div>\n",
       "<style scoped>\n",
       "    .dataframe tbody tr th:only-of-type {\n",
       "        vertical-align: middle;\n",
       "    }\n",
       "\n",
       "    .dataframe tbody tr th {\n",
       "        vertical-align: top;\n",
       "    }\n",
       "\n",
       "    .dataframe thead th {\n",
       "        text-align: right;\n",
       "    }\n",
       "</style>\n",
       "<table border=\"1\" class=\"dataframe\">\n",
       "  <thead>\n",
       "    <tr style=\"text-align: right;\">\n",
       "      <th></th>\n",
       "      <th>ds</th>\n",
       "      <th>yhat</th>\n",
       "      <th>yhat_lower</th>\n",
       "      <th>yhat_upper</th>\n",
       "    </tr>\n",
       "  </thead>\n",
       "  <tbody>\n",
       "    <tr>\n",
       "      <th>30</th>\n",
       "      <td>2015-07-01</td>\n",
       "      <td>64309.401645</td>\n",
       "      <td>59521.939813</td>\n",
       "      <td>68900.815687</td>\n",
       "    </tr>\n",
       "    <tr>\n",
       "      <th>31</th>\n",
       "      <td>2015-08-01</td>\n",
       "      <td>70481.886983</td>\n",
       "      <td>65712.962818</td>\n",
       "      <td>74841.715723</td>\n",
       "    </tr>\n",
       "    <tr>\n",
       "      <th>32</th>\n",
       "      <td>2015-09-01</td>\n",
       "      <td>64539.809162</td>\n",
       "      <td>59666.159141</td>\n",
       "      <td>69454.799343</td>\n",
       "    </tr>\n",
       "    <tr>\n",
       "      <th>33</th>\n",
       "      <td>2015-10-01</td>\n",
       "      <td>59386.279924</td>\n",
       "      <td>54906.717124</td>\n",
       "      <td>63849.886541</td>\n",
       "    </tr>\n",
       "    <tr>\n",
       "      <th>34</th>\n",
       "      <td>2015-11-01</td>\n",
       "      <td>94998.478946</td>\n",
       "      <td>90407.975009</td>\n",
       "      <td>99769.547317</td>\n",
       "    </tr>\n",
       "  </tbody>\n",
       "</table>\n",
       "</div>"
      ],
      "text/plain": [
       "           ds          yhat    yhat_lower    yhat_upper\n",
       "30 2015-07-01  64309.401645  59521.939813  68900.815687\n",
       "31 2015-08-01  70481.886983  65712.962818  74841.715723\n",
       "32 2015-09-01  64539.809162  59666.159141  69454.799343\n",
       "33 2015-10-01  59386.279924  54906.717124  63849.886541\n",
       "34 2015-11-01  94998.478946  90407.975009  99769.547317"
      ]
     },
     "execution_count": 13,
     "metadata": {},
     "output_type": "execute_result"
    }
   ],
   "source": [
    "m1 = Prophet(yearly_seasonality=True,changepoint_prior_scale=0.01, seasonality_prior_scale=1.0)\n",
    "m1.fit(ts_m) \n",
    "future1 = m1.make_future_dataframe(periods = 1, freq = 'MS')  \n",
    "forecast1 = m1.predict(future1)\n",
    "forecast1[['ds', 'yhat', 'yhat_lower', 'yhat_upper']].tail()"
   ]
  },
  {
   "cell_type": "code",
   "execution_count": 14,
   "metadata": {
    "scrolled": false
   },
   "outputs": [
    {
     "name": "stderr",
     "output_type": "stream",
     "text": [
      "INFO:fbprophet:Making 10 forecasts with cutoffs between 2014-01-04 00:00:00 and 2014-10-01 00:00:00\n",
      "INFO:fbprophet:n_changepoints greater than number of observations. Using 9.\n",
      "INFO:fbprophet:n_changepoints greater than number of observations. Using 10.\n",
      "INFO:fbprophet:n_changepoints greater than number of observations. Using 11.\n",
      "INFO:fbprophet:n_changepoints greater than number of observations. Using 11.\n",
      "INFO:fbprophet:n_changepoints greater than number of observations. Using 12.\n",
      "INFO:fbprophet:n_changepoints greater than number of observations. Using 13.\n",
      "INFO:fbprophet:n_changepoints greater than number of observations. Using 14.\n",
      "INFO:fbprophet:n_changepoints greater than number of observations. Using 15.\n",
      "INFO:fbprophet:n_changepoints greater than number of observations. Using 15.\n",
      "INFO:fbprophet:n_changepoints greater than number of observations. Using 16.\n"
     ]
    }
   ],
   "source": [
    "df_cv_1 = cross_validation(m1, initial='366 days', period='30 days', horizon = '365 days')\n",
    "#df_cv_1"
   ]
  },
  {
   "cell_type": "code",
   "execution_count": 15,
   "metadata": {},
   "outputs": [
    {
     "data": {
      "image/png": "[encoded data removed]",
      "text/plain": [
       "<Figure size 720x432 with 1 Axes>"
      ]
     },
     "metadata": {},
     "output_type": "display_data"
    }
   ],
   "source": [
    "fig_1 = plot_cross_validation_metric(df_cv_1, metric='mape')"
   ]
  },
  {
   "cell_type": "code",
   "execution_count": 16,
   "metadata": {},
   "outputs": [],
   "source": [
    "ts_d.columns=['ds','y']"
   ]
  },
  {
   "cell_type": "code",
   "execution_count": 17,
   "metadata": {},
   "outputs": [
    {
     "name": "stderr",
     "output_type": "stream",
     "text": [
      "INFO:fbprophet:Disabling daily seasonality. Run prophet with daily_seasonality=True to override this.\n",
      "INFO:fbprophet:Making 2 forecasts with cutoffs between 2014-05-04 00:00:00 and 2014-10-31 00:00:00\n",
      "INFO:fbprophet:Disabling daily seasonality. Run prophet with daily_seasonality=True to override this.\n",
      "INFO:fbprophet:Making 2 forecasts with cutoffs between 2014-05-04 00:00:00 and 2014-10-31 00:00:00\n",
      "INFO:fbprophet:Disabling daily seasonality. Run prophet with daily_seasonality=True to override this.\n",
      "INFO:fbprophet:Making 2 forecasts with cutoffs between 2014-05-04 00:00:00 and 2014-10-31 00:00:00\n",
      "INFO:fbprophet:Disabling daily seasonality. Run prophet with daily_seasonality=True to override this.\n",
      "INFO:fbprophet:Making 2 forecasts with cutoffs between 2014-05-04 00:00:00 and 2014-10-31 00:00:00\n",
      "INFO:fbprophet:Disabling daily seasonality. Run prophet with daily_seasonality=True to override this.\n",
      "INFO:fbprophet:Making 2 forecasts with cutoffs between 2014-05-04 00:00:00 and 2014-10-31 00:00:00\n",
      "INFO:fbprophet:Disabling daily seasonality. Run prophet with daily_seasonality=True to override this.\n",
      "INFO:fbprophet:Making 2 forecasts with cutoffs between 2014-05-04 00:00:00 and 2014-10-31 00:00:00\n",
      "INFO:fbprophet:Disabling daily seasonality. Run prophet with daily_seasonality=True to override this.\n",
      "INFO:fbprophet:Making 2 forecasts with cutoffs between 2014-05-04 00:00:00 and 2014-10-31 00:00:00\n",
      "INFO:fbprophet:Disabling daily seasonality. Run prophet with daily_seasonality=True to override this.\n",
      "INFO:fbprophet:Making 2 forecasts with cutoffs between 2014-05-04 00:00:00 and 2014-10-31 00:00:00\n",
      "INFO:fbprophet:Disabling daily seasonality. Run prophet with daily_seasonality=True to override this.\n",
      "INFO:fbprophet:Making 2 forecasts with cutoffs between 2014-05-04 00:00:00 and 2014-10-31 00:00:00\n",
      "INFO:fbprophet:Disabling daily seasonality. Run prophet with daily_seasonality=True to override this.\n",
      "INFO:fbprophet:Making 2 forecasts with cutoffs between 2014-05-04 00:00:00 and 2014-10-31 00:00:00\n",
      "INFO:fbprophet:Disabling daily seasonality. Run prophet with daily_seasonality=True to override this.\n",
      "INFO:fbprophet:Making 2 forecasts with cutoffs between 2014-05-04 00:00:00 and 2014-10-31 00:00:00\n",
      "INFO:fbprophet:Disabling daily seasonality. Run prophet with daily_seasonality=True to override this.\n",
      "INFO:fbprophet:Making 2 forecasts with cutoffs between 2014-05-04 00:00:00 and 2014-10-31 00:00:00\n",
      "INFO:fbprophet:Disabling daily seasonality. Run prophet with daily_seasonality=True to override this.\n",
      "INFO:fbprophet:Making 2 forecasts with cutoffs between 2014-05-04 00:00:00 and 2014-10-31 00:00:00\n",
      "INFO:fbprophet:Disabling daily seasonality. Run prophet with daily_seasonality=True to override this.\n",
      "INFO:fbprophet:Making 2 forecasts with cutoffs between 2014-05-04 00:00:00 and 2014-10-31 00:00:00\n",
      "INFO:fbprophet:Disabling daily seasonality. Run prophet with daily_seasonality=True to override this.\n",
      "INFO:fbprophet:Making 2 forecasts with cutoffs between 2014-05-04 00:00:00 and 2014-10-31 00:00:00\n",
      "INFO:fbprophet:Disabling daily seasonality. Run prophet with daily_seasonality=True to override this.\n",
      "INFO:fbprophet:Making 2 forecasts with cutoffs between 2014-05-04 00:00:00 and 2014-10-31 00:00:00\n"
     ]
    }
   ],
   "source": [
    "param_grid = {  \n",
    "    'changepoint_prior_scale': [0.001, 0.01, 0.1, 0.5],\n",
    "    'seasonality_prior_scale': [0.01, 0.1, 1.0, 10.0],\n",
    "}\n",
    "# Generate all combinations of parameters\n",
    "all_params = [dict(zip(param_grid.keys(), v)) for v in itertools.product(*param_grid.values())]\n",
    "rmses = []  # Store the RMSEs for each params here\n",
    "\n",
    "# Use cross validation to evaluate all parameters\n",
    "for params in all_params:\n",
    "    m = Prophet(**params,yearly_seasonality=True,weekly_seasonality=True)  # Fit model with given params\n",
    "    m.add_country_holidays(country_name='RU')\n",
    "    m.fit(ts_d)\n",
    "    df_cv = cross_validation(m, initial='366 days', period='180 days',horizon='365 days')\n",
    "    df_p = performance_metrics(df_cv, rolling_window=1)\n",
    "    rmses.append(df_p['rmse'].values[0])\n",
    "\n",
    "# Find the best parameters\n",
    "tuning_results = pd.DataFrame(all_params)\n",
    "tuning_results['rmse'] = rmses\n",
    "#print(tuning_results)"
   ]
  },
  {
   "cell_type": "code",
   "execution_count": 18,
   "metadata": {},
   "outputs": [
    {
     "name": "stdout",
     "output_type": "stream",
     "text": [
      "{'changepoint_prior_scale': 0.1, 'seasonality_prior_scale': 1.0}\n"
     ]
    }
   ],
   "source": [
    "best_params = all_params[np.argmin(rmses)]\n",
    "print(best_params)"
   ]
  },
  {
   "cell_type": "code",
   "execution_count": 19,
   "metadata": {},
   "outputs": [
    {
     "name": "stderr",
     "output_type": "stream",
     "text": [
      "INFO:fbprophet:Disabling daily seasonality. Run prophet with daily_seasonality=True to override this.\n"
     ]
    },
    {
     "data": {
      "text/plain": [
       "<fbprophet.forecaster.Prophet at 0x7faa0eb23550>"
      ]
     },
     "execution_count": 19,
     "metadata": {},
     "output_type": "execute_result"
    }
   ],
   "source": [
    "m2 = Prophet(yearly_seasonality=True,weekly_seasonality=True,changepoint_prior_scale=0.1, seasonality_prior_scale=1.0)\n",
    "m2.add_country_holidays(country_name='RU')\n",
    "m2.fit(ts_d) "
   ]
  },
  {
   "cell_type": "code",
   "execution_count": 20,
   "metadata": {},
   "outputs": [
    {
     "data": {
      "image/png": "[encoded data removed]",
      "text/plain": [
       "<Figure size 720x432 with 1 Axes>"
      ]
     },
     "metadata": {},
     "output_type": "display_data"
    }
   ],
   "source": [
    "a = plot_yearly(m2)"
   ]
  },
  {
   "cell_type": "code",
   "execution_count": 21,
   "metadata": {},
   "outputs": [
    {
     "data": {
      "text/html": [
       "<div>\n",
       "<style scoped>\n",
       "    .dataframe tbody tr th:only-of-type {\n",
       "        vertical-align: middle;\n",
       "    }\n",
       "\n",
       "    .dataframe tbody tr th {\n",
       "        vertical-align: top;\n",
       "    }\n",
       "\n",
       "    .dataframe thead th {\n",
       "        text-align: right;\n",
       "    }\n",
       "</style>\n",
       "<table border=\"1\" class=\"dataframe\">\n",
       "  <thead>\n",
       "    <tr style=\"text-align: right;\">\n",
       "      <th></th>\n",
       "      <th>ds</th>\n",
       "      <th>yhat</th>\n",
       "      <th>yhat_lower</th>\n",
       "      <th>yhat_upper</th>\n",
       "    </tr>\n",
       "  </thead>\n",
       "  <tbody>\n",
       "    <tr>\n",
       "      <th>1039</th>\n",
       "      <td>2015-11-26</td>\n",
       "      <td>1835.508893</td>\n",
       "      <td>460.237943</td>\n",
       "      <td>3304.267255</td>\n",
       "    </tr>\n",
       "    <tr>\n",
       "      <th>1040</th>\n",
       "      <td>2015-11-27</td>\n",
       "      <td>2324.046323</td>\n",
       "      <td>922.953200</td>\n",
       "      <td>3715.349479</td>\n",
       "    </tr>\n",
       "    <tr>\n",
       "      <th>1041</th>\n",
       "      <td>2015-11-28</td>\n",
       "      <td>3083.421349</td>\n",
       "      <td>1656.090891</td>\n",
       "      <td>4509.181809</td>\n",
       "    </tr>\n",
       "    <tr>\n",
       "      <th>1042</th>\n",
       "      <td>2015-11-29</td>\n",
       "      <td>2416.958637</td>\n",
       "      <td>1005.640871</td>\n",
       "      <td>3848.012152</td>\n",
       "    </tr>\n",
       "    <tr>\n",
       "      <th>1043</th>\n",
       "      <td>2015-11-30</td>\n",
       "      <td>1577.601748</td>\n",
       "      <td>173.493358</td>\n",
       "      <td>3013.849201</td>\n",
       "    </tr>\n",
       "  </tbody>\n",
       "</table>\n",
       "</div>"
      ],
      "text/plain": [
       "             ds         yhat   yhat_lower   yhat_upper\n",
       "1039 2015-11-26  1835.508893   460.237943  3304.267255\n",
       "1040 2015-11-27  2324.046323   922.953200  3715.349479\n",
       "1041 2015-11-28  3083.421349  1656.090891  4509.181809\n",
       "1042 2015-11-29  2416.958637  1005.640871  3848.012152\n",
       "1043 2015-11-30  1577.601748   173.493358  3013.849201"
      ]
     },
     "execution_count": 21,
     "metadata": {},
     "output_type": "execute_result"
    }
   ],
   "source": [
    "future2 = m2.make_future_dataframe(periods = 30)  \n",
    "forecast2 = m2.predict(future2)\n",
    "forecast2[['ds', 'yhat', 'yhat_lower', 'yhat_upper']].tail()"
   ]
  },
  {
   "cell_type": "code",
   "execution_count": 22,
   "metadata": {},
   "outputs": [
    {
     "data": {
      "image/png": "[encoded data removed]",
      "text/plain": [
       "<Figure size 720x432 with 1 Axes>"
      ]
     },
     "metadata": {},
     "output_type": "display_data"
    }
   ],
   "source": [
    "m2.plot(forecast);"
   ]
  },
  {
   "cell_type": "code",
   "execution_count": 23,
   "metadata": {},
   "outputs": [
    {
     "data": {
      "image/png": "[encoded data removed]",
      "text/plain": [
       "<Figure size 648x432 with 2 Axes>"
      ]
     },
     "metadata": {},
     "output_type": "display_data"
    }
   ],
   "source": [
    "m2.plot_components(forecast);"
   ]
  },
  {
   "cell_type": "code",
   "execution_count": 24,
   "metadata": {},
   "outputs": [
    {
     "name": "stderr",
     "output_type": "stream",
     "text": [
      "INFO:fbprophet:Making 2 forecasts with cutoffs between 2014-05-04 00:00:00 and 2014-10-31 00:00:00\n"
     ]
    }
   ],
   "source": [
    "df_cv_2 = cross_validation(m2, initial='366 days', period='180 days', horizon = '365 days')\n",
    "#df_cv_2"
   ]
  },
  {
   "cell_type": "code",
   "execution_count": 25,
   "metadata": {},
   "outputs": [
    {
     "data": {
      "image/png": "[encoded data removed]",
      "text/plain": [
       "<Figure size 720x432 with 1 Axes>"
      ]
     },
     "metadata": {},
     "output_type": "display_data"
    }
   ],
   "source": [
    "fig = plot_cross_validation_metric(df_cv_2, metric='mape')"
   ]
  },
  {
   "cell_type": "code",
   "execution_count": 26,
   "metadata": {
    "scrolled": false
   },
   "outputs": [
    {
     "name": "stderr",
     "output_type": "stream",
     "text": [
      "/Users/ruoqigao/opt/anaconda3/lib/python3.7/site-packages/ipykernel_launcher.py:2: SettingWithCopyWarning: \n",
      "A value is trying to be set on a copy of a slice from a DataFrame.\n",
      "Try using .loc[row_indexer,col_indexer] = value instead\n",
      "\n",
      "See the caveats in the documentation: https://pandas.pydata.org/pandas-docs/stable/user_guide/indexing.html#returning-a-view-versus-a-copy\n",
      "  \n"
     ]
    }
   ],
   "source": [
    "f2=forecast2[['ds','yhat']]\n",
    "f2['year_month']=f2['ds'].dt.strftime('%Y-%m-%d').str[:7]\n",
    "f2_yhat=f2.groupby(['year_month'])['yhat'].sum().reset_index()\n",
    "#f2_yhat"
   ]
  },
  {
   "cell_type": "code",
   "execution_count": 27,
   "metadata": {},
   "outputs": [
    {
     "name": "stderr",
     "output_type": "stream",
     "text": [
      "INFO:fbprophet:Disabling weekly seasonality. Run prophet with weekly_seasonality=True to override this.\n",
      "INFO:fbprophet:Disabling daily seasonality. Run prophet with daily_seasonality=True to override this.\n",
      "INFO:fbprophet:n_changepoints greater than number of observations. Using 8.\n",
      "INFO:fbprophet:Disabling weekly seasonality. Run prophet with weekly_seasonality=True to override this.\n",
      "INFO:fbprophet:Disabling daily seasonality. Run prophet with daily_seasonality=True to override this.\n",
      "INFO:fbprophet:n_changepoints greater than number of observations. Using 9.\n",
      "INFO:fbprophet:Disabling weekly seasonality. Run prophet with weekly_seasonality=True to override this.\n",
      "INFO:fbprophet:Disabling daily seasonality. Run prophet with daily_seasonality=True to override this.\n",
      "INFO:fbprophet:n_changepoints greater than number of observations. Using 10.\n",
      "INFO:fbprophet:Disabling weekly seasonality. Run prophet with weekly_seasonality=True to override this.\n",
      "INFO:fbprophet:Disabling daily seasonality. Run prophet with daily_seasonality=True to override this.\n",
      "INFO:fbprophet:n_changepoints greater than number of observations. Using 11.\n",
      "INFO:fbprophet:Disabling weekly seasonality. Run prophet with weekly_seasonality=True to override this.\n",
      "INFO:fbprophet:Disabling daily seasonality. Run prophet with daily_seasonality=True to override this.\n",
      "INFO:fbprophet:n_changepoints greater than number of observations. Using 11.\n",
      "INFO:fbprophet:Disabling weekly seasonality. Run prophet with weekly_seasonality=True to override this.\n",
      "INFO:fbprophet:Disabling daily seasonality. Run prophet with daily_seasonality=True to override this.\n",
      "INFO:fbprophet:n_changepoints greater than number of observations. Using 12.\n",
      "INFO:fbprophet:Disabling weekly seasonality. Run prophet with weekly_seasonality=True to override this.\n",
      "INFO:fbprophet:Disabling daily seasonality. Run prophet with daily_seasonality=True to override this.\n",
      "INFO:fbprophet:n_changepoints greater than number of observations. Using 13.\n",
      "INFO:fbprophet:Disabling weekly seasonality. Run prophet with weekly_seasonality=True to override this.\n",
      "INFO:fbprophet:Disabling daily seasonality. Run prophet with daily_seasonality=True to override this.\n",
      "INFO:fbprophet:n_changepoints greater than number of observations. Using 14.\n",
      "INFO:fbprophet:Disabling weekly seasonality. Run prophet with weekly_seasonality=True to override this.\n",
      "INFO:fbprophet:Disabling daily seasonality. Run prophet with daily_seasonality=True to override this.\n",
      "INFO:fbprophet:n_changepoints greater than number of observations. Using 15.\n",
      "INFO:fbprophet:Disabling weekly seasonality. Run prophet with weekly_seasonality=True to override this.\n",
      "INFO:fbprophet:Disabling daily seasonality. Run prophet with daily_seasonality=True to override this.\n",
      "INFO:fbprophet:n_changepoints greater than number of observations. Using 15.\n",
      "INFO:fbprophet:Disabling weekly seasonality. Run prophet with weekly_seasonality=True to override this.\n",
      "INFO:fbprophet:Disabling daily seasonality. Run prophet with daily_seasonality=True to override this.\n",
      "INFO:fbprophet:n_changepoints greater than number of observations. Using 16.\n",
      "INFO:fbprophet:Disabling weekly seasonality. Run prophet with weekly_seasonality=True to override this.\n",
      "INFO:fbprophet:Disabling daily seasonality. Run prophet with daily_seasonality=True to override this.\n",
      "INFO:fbprophet:n_changepoints greater than number of observations. Using 17.\n",
      "INFO:fbprophet:Disabling weekly seasonality. Run prophet with weekly_seasonality=True to override this.\n",
      "INFO:fbprophet:Disabling daily seasonality. Run prophet with daily_seasonality=True to override this.\n",
      "INFO:fbprophet:n_changepoints greater than number of observations. Using 18.\n",
      "INFO:fbprophet:Disabling weekly seasonality. Run prophet with weekly_seasonality=True to override this.\n",
      "INFO:fbprophet:Disabling daily seasonality. Run prophet with daily_seasonality=True to override this.\n",
      "INFO:fbprophet:n_changepoints greater than number of observations. Using 19.\n",
      "INFO:fbprophet:Disabling weekly seasonality. Run prophet with weekly_seasonality=True to override this.\n",
      "INFO:fbprophet:Disabling daily seasonality. Run prophet with daily_seasonality=True to override this.\n",
      "INFO:fbprophet:n_changepoints greater than number of observations. Using 19.\n",
      "INFO:fbprophet:Disabling weekly seasonality. Run prophet with weekly_seasonality=True to override this.\n",
      "INFO:fbprophet:Disabling daily seasonality. Run prophet with daily_seasonality=True to override this.\n",
      "INFO:fbprophet:n_changepoints greater than number of observations. Using 20.\n",
      "INFO:fbprophet:Disabling weekly seasonality. Run prophet with weekly_seasonality=True to override this.\n",
      "INFO:fbprophet:Disabling daily seasonality. Run prophet with daily_seasonality=True to override this.\n",
      "INFO:fbprophet:n_changepoints greater than number of observations. Using 21.\n",
      "INFO:fbprophet:Disabling weekly seasonality. Run prophet with weekly_seasonality=True to override this.\n",
      "INFO:fbprophet:Disabling daily seasonality. Run prophet with daily_seasonality=True to override this.\n",
      "INFO:fbprophet:n_changepoints greater than number of observations. Using 22.\n",
      "INFO:fbprophet:Disabling weekly seasonality. Run prophet with weekly_seasonality=True to override this.\n",
      "INFO:fbprophet:Disabling daily seasonality. Run prophet with daily_seasonality=True to override this.\n",
      "INFO:fbprophet:n_changepoints greater than number of observations. Using 23.\n",
      "INFO:fbprophet:Disabling weekly seasonality. Run prophet with weekly_seasonality=True to override this.\n",
      "INFO:fbprophet:Disabling daily seasonality. Run prophet with daily_seasonality=True to override this.\n",
      "INFO:fbprophet:n_changepoints greater than number of observations. Using 23.\n",
      "INFO:fbprophet:Disabling weekly seasonality. Run prophet with weekly_seasonality=True to override this.\n",
      "INFO:fbprophet:Disabling daily seasonality. Run prophet with daily_seasonality=True to override this.\n",
      "INFO:fbprophet:n_changepoints greater than number of observations. Using 24.\n",
      "INFO:fbprophet:Disabling weekly seasonality. Run prophet with weekly_seasonality=True to override this.\n",
      "INFO:fbprophet:Disabling daily seasonality. Run prophet with daily_seasonality=True to override this.\n",
      "INFO:fbprophet:Disabling weekly seasonality. Run prophet with weekly_seasonality=True to override this.\n",
      "INFO:fbprophet:Disabling daily seasonality. Run prophet with daily_seasonality=True to override this.\n"
     ]
    }
   ],
   "source": [
    "df_m=pd.DataFrame()\n",
    "for i in range(12,35):\n",
    "    m1 = Prophet(yearly_seasonality=True,changepoint_prior_scale=0.01, seasonality_prior_scale=1.0)\n",
    "    m1.fit(ts_m[:i]) \n",
    "    future1 = m1.make_future_dataframe(periods = 1, freq = 'MS')  \n",
    "    forecast1 = m1.predict(future1)\n",
    "    f=forecast1[['ds', 'yhat']].tail(1)\n",
    "    df_m=df_m.append(f)"
   ]
  },
  {
   "cell_type": "code",
   "execution_count": 28,
   "metadata": {},
   "outputs": [
    {
     "name": "stderr",
     "output_type": "stream",
     "text": [
      "INFO:fbprophet:Disabling daily seasonality. Run prophet with daily_seasonality=True to override this.\n",
      "INFO:fbprophet:Disabling daily seasonality. Run prophet with daily_seasonality=True to override this.\n",
      "INFO:fbprophet:Disabling daily seasonality. Run prophet with daily_seasonality=True to override this.\n",
      "INFO:fbprophet:Disabling daily seasonality. Run prophet with daily_seasonality=True to override this.\n",
      "INFO:fbprophet:Disabling daily seasonality. Run prophet with daily_seasonality=True to override this.\n",
      "INFO:fbprophet:Disabling daily seasonality. Run prophet with daily_seasonality=True to override this.\n",
      "INFO:fbprophet:Disabling daily seasonality. Run prophet with daily_seasonality=True to override this.\n",
      "INFO:fbprophet:Disabling daily seasonality. Run prophet with daily_seasonality=True to override this.\n",
      "INFO:fbprophet:Disabling daily seasonality. Run prophet with daily_seasonality=True to override this.\n",
      "INFO:fbprophet:Disabling daily seasonality. Run prophet with daily_seasonality=True to override this.\n",
      "INFO:fbprophet:Disabling daily seasonality. Run prophet with daily_seasonality=True to override this.\n",
      "INFO:fbprophet:Disabling daily seasonality. Run prophet with daily_seasonality=True to override this.\n",
      "INFO:fbprophet:Disabling daily seasonality. Run prophet with daily_seasonality=True to override this.\n",
      "INFO:fbprophet:Disabling daily seasonality. Run prophet with daily_seasonality=True to override this.\n",
      "INFO:fbprophet:Disabling daily seasonality. Run prophet with daily_seasonality=True to override this.\n",
      "INFO:fbprophet:Disabling daily seasonality. Run prophet with daily_seasonality=True to override this.\n",
      "INFO:fbprophet:Disabling daily seasonality. Run prophet with daily_seasonality=True to override this.\n",
      "INFO:fbprophet:Disabling daily seasonality. Run prophet with daily_seasonality=True to override this.\n",
      "INFO:fbprophet:Disabling daily seasonality. Run prophet with daily_seasonality=True to override this.\n",
      "INFO:fbprophet:Disabling daily seasonality. Run prophet with daily_seasonality=True to override this.\n",
      "INFO:fbprophet:Disabling daily seasonality. Run prophet with daily_seasonality=True to override this.\n",
      "INFO:fbprophet:Disabling daily seasonality. Run prophet with daily_seasonality=True to override this.\n",
      "INFO:fbprophet:Disabling daily seasonality. Run prophet with daily_seasonality=True to override this.\n",
      "INFO:fbprophet:Disabling daily seasonality. Run prophet with daily_seasonality=True to override this.\n",
      "INFO:fbprophet:Disabling daily seasonality. Run prophet with daily_seasonality=True to override this.\n",
      "INFO:fbprophet:Disabling daily seasonality. Run prophet with daily_seasonality=True to override this.\n",
      "INFO:fbprophet:Disabling daily seasonality. Run prophet with daily_seasonality=True to override this.\n"
     ]
    }
   ],
   "source": [
    "df_d=pd.DataFrame()\n",
    "for i in range(13,40):\n",
    "    m2 = Prophet(yearly_seasonality=True,weekly_seasonality=True,changepoint_prior_scale=0.1, seasonality_prior_scale=1.0)\n",
    "    m2.add_country_holidays(country_name='RU')\n",
    "    m2.fit(ts_d[:i*26]) \n",
    "    if i!=39:\n",
    "        future1 = m2.make_future_dataframe(periods = 26)\n",
    "    else:\n",
    "        future1 = m2.make_future_dataframe(periods = 30)\n",
    "    forecast1 = m2.predict(future1)\n",
    "    if i!=39:\n",
    "        f=forecast1[['ds', 'yhat']].tail(26)\n",
    "    else: \n",
    "        f=forecast1[['ds', 'yhat']].tail(30)\n",
    "    df_d=df_d.append(f)"
   ]
  },
  {
   "cell_type": "code",
   "execution_count": 29,
   "metadata": {},
   "outputs": [],
   "source": [
    "df_m['year_month']=df_m['ds'].dt.strftime('%Y-%m-%d').str[:7]\n",
    "df_d['year_month']=df_d['ds'].dt.strftime('%Y-%m-%d').str[:7]\n",
    "df_d=df_d.groupby(['year_month'])['yhat'].sum().reset_index()\n",
    "f_company=df_m.merge(df_d,on='year_month')\n",
    "#f_company"
   ]
  },
  {
   "cell_type": "code",
   "execution_count": 30,
   "metadata": {},
   "outputs": [],
   "source": [
    "ts_m=pd.read_csv('company_monthly.csv')\n",
    "ts_m=ts_m[ts_m.year_month>'2014-01']\n",
    "#ts_m"
   ]
  },
  {
   "cell_type": "code",
   "execution_count": 31,
   "metadata": {},
   "outputs": [],
   "source": [
    "f_company=ts_m.merge(f_company,on='year_month',how='right')"
   ]
  },
  {
   "cell_type": "code",
   "execution_count": 32,
   "metadata": {},
   "outputs": [
    {
     "name": "stdout",
     "output_type": "stream",
     "text": [
      "200882760.40173805\n",
      "132275135.46172066\n"
     ]
    }
   ],
   "source": [
    "#mse for monthly data prediction\n",
    "mse_monthly=sum((f_company.yhat_x[:-2]-f_company.item_cnt_day[:-2])**2)/len(f_company[:-1])\n",
    "print(mse_monthly)\n",
    "#mse for daily data prediction\n",
    "mse_daily=sum((f_company.yhat_y[:-2]-f_company.item_cnt_day[:-2])**2)/len(f_company[:-1])\n",
    "print(mse_daily)"
   ]
  },
  {
   "cell_type": "markdown",
   "metadata": {},
   "source": [
    "### Prediction for Store Level- Monthly and Daily Data"
   ]
  },
  {
   "cell_type": "code",
   "execution_count": 33,
   "metadata": {},
   "outputs": [],
   "source": [
    "ss_m=pd.read_csv('store_monthly.csv')"
   ]
  },
  {
   "cell_type": "code",
   "execution_count": 34,
   "metadata": {},
   "outputs": [
    {
     "data": {
      "text/html": [
       "<div>\n",
       "<style scoped>\n",
       "    .dataframe tbody tr th:only-of-type {\n",
       "        vertical-align: middle;\n",
       "    }\n",
       "\n",
       "    .dataframe tbody tr th {\n",
       "        vertical-align: top;\n",
       "    }\n",
       "\n",
       "    .dataframe thead th {\n",
       "        text-align: right;\n",
       "    }\n",
       "</style>\n",
       "<table border=\"1\" class=\"dataframe\">\n",
       "  <thead>\n",
       "    <tr style=\"text-align: right;\">\n",
       "      <th></th>\n",
       "      <th>shop_id</th>\n",
       "      <th>date</th>\n",
       "      <th>item_cnt_day</th>\n",
       "    </tr>\n",
       "  </thead>\n",
       "  <tbody>\n",
       "    <tr>\n",
       "      <th>0</th>\n",
       "      <td>0</td>\n",
       "      <td>2013-01-02</td>\n",
       "      <td>228.0</td>\n",
       "    </tr>\n",
       "    <tr>\n",
       "      <th>1</th>\n",
       "      <td>0</td>\n",
       "      <td>2013-01-13</td>\n",
       "      <td>144.0</td>\n",
       "    </tr>\n",
       "    <tr>\n",
       "      <th>2</th>\n",
       "      <td>0</td>\n",
       "      <td>2013-01-14</td>\n",
       "      <td>138.0</td>\n",
       "    </tr>\n",
       "    <tr>\n",
       "      <th>3</th>\n",
       "      <td>0</td>\n",
       "      <td>2013-01-15</td>\n",
       "      <td>153.0</td>\n",
       "    </tr>\n",
       "    <tr>\n",
       "      <th>4</th>\n",
       "      <td>0</td>\n",
       "      <td>2013-01-16</td>\n",
       "      <td>154.0</td>\n",
       "    </tr>\n",
       "    <tr>\n",
       "      <th>...</th>\n",
       "      <td>...</td>\n",
       "      <td>...</td>\n",
       "      <td>...</td>\n",
       "    </tr>\n",
       "    <tr>\n",
       "      <th>44455</th>\n",
       "      <td>59</td>\n",
       "      <td>2015-10-27</td>\n",
       "      <td>34.0</td>\n",
       "    </tr>\n",
       "    <tr>\n",
       "      <th>44456</th>\n",
       "      <td>59</td>\n",
       "      <td>2015-10-28</td>\n",
       "      <td>14.0</td>\n",
       "    </tr>\n",
       "    <tr>\n",
       "      <th>44457</th>\n",
       "      <td>59</td>\n",
       "      <td>2015-10-29</td>\n",
       "      <td>14.0</td>\n",
       "    </tr>\n",
       "    <tr>\n",
       "      <th>44458</th>\n",
       "      <td>59</td>\n",
       "      <td>2015-10-30</td>\n",
       "      <td>30.0</td>\n",
       "    </tr>\n",
       "    <tr>\n",
       "      <th>44459</th>\n",
       "      <td>59</td>\n",
       "      <td>2015-10-31</td>\n",
       "      <td>56.0</td>\n",
       "    </tr>\n",
       "  </tbody>\n",
       "</table>\n",
       "<p>44460 rows × 3 columns</p>\n",
       "</div>"
      ],
      "text/plain": [
       "       shop_id        date  item_cnt_day\n",
       "0            0  2013-01-02         228.0\n",
       "1            0  2013-01-13         144.0\n",
       "2            0  2013-01-14         138.0\n",
       "3            0  2013-01-15         153.0\n",
       "4            0  2013-01-16         154.0\n",
       "...        ...         ...           ...\n",
       "44455       59  2015-10-27          34.0\n",
       "44456       59  2015-10-28          14.0\n",
       "44457       59  2015-10-29          14.0\n",
       "44458       59  2015-10-30          30.0\n",
       "44459       59  2015-10-31          56.0\n",
       "\n",
       "[44460 rows x 3 columns]"
      ]
     },
     "execution_count": 34,
     "metadata": {},
     "output_type": "execute_result"
    }
   ],
   "source": [
    "ss_d=pd.read_csv('store_daily.csv')\n",
    "ss_d"
   ]
  },
  {
   "cell_type": "code",
   "execution_count": 35,
   "metadata": {},
   "outputs": [],
   "source": [
    "ss_m_pivot=ss_m.pivot(index='year_month', columns='shop_id', values='item_cnt_day')\n",
    "ss_m_pivot.fillna(0,inplace=True)\n",
    "ss_m_pivot.columns=range(0,58)"
   ]
  },
  {
   "cell_type": "code",
   "execution_count": 36,
   "metadata": {},
   "outputs": [
    {
     "data": {
      "text/html": [
       "<div>\n",
       "<style scoped>\n",
       "    .dataframe tbody tr th:only-of-type {\n",
       "        vertical-align: middle;\n",
       "    }\n",
       "\n",
       "    .dataframe tbody tr th {\n",
       "        vertical-align: top;\n",
       "    }\n",
       "\n",
       "    .dataframe thead th {\n",
       "        text-align: right;\n",
       "    }\n",
       "</style>\n",
       "<table border=\"1\" class=\"dataframe\">\n",
       "  <thead>\n",
       "    <tr style=\"text-align: right;\">\n",
       "      <th></th>\n",
       "      <th>0</th>\n",
       "      <th>1</th>\n",
       "      <th>2</th>\n",
       "      <th>3</th>\n",
       "      <th>4</th>\n",
       "      <th>5</th>\n",
       "      <th>6</th>\n",
       "      <th>7</th>\n",
       "      <th>8</th>\n",
       "      <th>9</th>\n",
       "      <th>...</th>\n",
       "      <th>48</th>\n",
       "      <th>49</th>\n",
       "      <th>50</th>\n",
       "      <th>51</th>\n",
       "      <th>52</th>\n",
       "      <th>53</th>\n",
       "      <th>54</th>\n",
       "      <th>55</th>\n",
       "      <th>56</th>\n",
       "      <th>57</th>\n",
       "    </tr>\n",
       "  </thead>\n",
       "  <tbody>\n",
       "    <tr>\n",
       "      <th>2013-01-01</th>\n",
       "      <td>3626.0</td>\n",
       "      <td>1955.0</td>\n",
       "      <td>748.0</td>\n",
       "      <td>670.0</td>\n",
       "      <td>1685.0</td>\n",
       "      <td>446.0</td>\n",
       "      <td>3403.0</td>\n",
       "      <td>2091.0</td>\n",
       "      <td>747.0</td>\n",
       "      <td>0.0</td>\n",
       "      <td>...</td>\n",
       "      <td>0.0</td>\n",
       "      <td>0.0</td>\n",
       "      <td>2981.0</td>\n",
       "      <td>2477.0</td>\n",
       "      <td>1677.0</td>\n",
       "      <td>1800.0</td>\n",
       "      <td>7814.0</td>\n",
       "      <td>205.0</td>\n",
       "      <td>2361.0</td>\n",
       "      <td>1704.0</td>\n",
       "    </tr>\n",
       "    <tr>\n",
       "      <th>2013-02-01</th>\n",
       "      <td>3957.0</td>\n",
       "      <td>2298.0</td>\n",
       "      <td>722.0</td>\n",
       "      <td>924.0</td>\n",
       "      <td>2069.0</td>\n",
       "      <td>1171.0</td>\n",
       "      <td>4042.0</td>\n",
       "      <td>2677.0</td>\n",
       "      <td>963.0</td>\n",
       "      <td>0.0</td>\n",
       "      <td>...</td>\n",
       "      <td>0.0</td>\n",
       "      <td>0.0</td>\n",
       "      <td>3583.0</td>\n",
       "      <td>2340.0</td>\n",
       "      <td>1858.0</td>\n",
       "      <td>2087.0</td>\n",
       "      <td>8556.0</td>\n",
       "      <td>234.0</td>\n",
       "      <td>3169.0</td>\n",
       "      <td>2063.0</td>\n",
       "    </tr>\n",
       "    <tr>\n",
       "      <th>2013-03-01</th>\n",
       "      <td>403.0</td>\n",
       "      <td>310.0</td>\n",
       "      <td>821.0</td>\n",
       "      <td>894.0</td>\n",
       "      <td>1806.0</td>\n",
       "      <td>1206.0</td>\n",
       "      <td>4370.0</td>\n",
       "      <td>2510.0</td>\n",
       "      <td>692.0</td>\n",
       "      <td>543.0</td>\n",
       "      <td>...</td>\n",
       "      <td>0.0</td>\n",
       "      <td>0.0</td>\n",
       "      <td>3761.0</td>\n",
       "      <td>2444.0</td>\n",
       "      <td>1831.0</td>\n",
       "      <td>2354.0</td>\n",
       "      <td>9117.0</td>\n",
       "      <td>205.0</td>\n",
       "      <td>2921.0</td>\n",
       "      <td>1944.0</td>\n",
       "    </tr>\n",
       "    <tr>\n",
       "      <th>2013-04-01</th>\n",
       "      <td>473.0</td>\n",
       "      <td>99.0</td>\n",
       "      <td>678.0</td>\n",
       "      <td>727.0</td>\n",
       "      <td>639.0</td>\n",
       "      <td>967.0</td>\n",
       "      <td>3130.0</td>\n",
       "      <td>1768.0</td>\n",
       "      <td>139.0</td>\n",
       "      <td>1573.0</td>\n",
       "      <td>...</td>\n",
       "      <td>0.0</td>\n",
       "      <td>0.0</td>\n",
       "      <td>2976.0</td>\n",
       "      <td>2005.0</td>\n",
       "      <td>1573.0</td>\n",
       "      <td>1725.0</td>\n",
       "      <td>7275.0</td>\n",
       "      <td>212.0</td>\n",
       "      <td>2284.0</td>\n",
       "      <td>1466.0</td>\n",
       "    </tr>\n",
       "    <tr>\n",
       "      <th>2013-05-01</th>\n",
       "      <td>465.0</td>\n",
       "      <td>242.0</td>\n",
       "      <td>659.0</td>\n",
       "      <td>783.0</td>\n",
       "      <td>1397.0</td>\n",
       "      <td>1007.0</td>\n",
       "      <td>3459.0</td>\n",
       "      <td>1859.0</td>\n",
       "      <td>139.0</td>\n",
       "      <td>2131.0</td>\n",
       "      <td>...</td>\n",
       "      <td>0.0</td>\n",
       "      <td>0.0</td>\n",
       "      <td>2945.0</td>\n",
       "      <td>1986.0</td>\n",
       "      <td>1652.0</td>\n",
       "      <td>1842.0</td>\n",
       "      <td>6948.0</td>\n",
       "      <td>728.0</td>\n",
       "      <td>2262.0</td>\n",
       "      <td>1545.0</td>\n",
       "    </tr>\n",
       "  </tbody>\n",
       "</table>\n",
       "<p>5 rows × 58 columns</p>\n",
       "</div>"
      ],
      "text/plain": [
       "                0       1      2      3       4       5       6       7   \\\n",
       "2013-01-01  3626.0  1955.0  748.0  670.0  1685.0   446.0  3403.0  2091.0   \n",
       "2013-02-01  3957.0  2298.0  722.0  924.0  2069.0  1171.0  4042.0  2677.0   \n",
       "2013-03-01   403.0   310.0  821.0  894.0  1806.0  1206.0  4370.0  2510.0   \n",
       "2013-04-01   473.0    99.0  678.0  727.0   639.0   967.0  3130.0  1768.0   \n",
       "2013-05-01   465.0   242.0  659.0  783.0  1397.0  1007.0  3459.0  1859.0   \n",
       "\n",
       "               8       9   ...   48   49      50      51      52      53  \\\n",
       "2013-01-01  747.0     0.0  ...  0.0  0.0  2981.0  2477.0  1677.0  1800.0   \n",
       "2013-02-01  963.0     0.0  ...  0.0  0.0  3583.0  2340.0  1858.0  2087.0   \n",
       "2013-03-01  692.0   543.0  ...  0.0  0.0  3761.0  2444.0  1831.0  2354.0   \n",
       "2013-04-01  139.0  1573.0  ...  0.0  0.0  2976.0  2005.0  1573.0  1725.0   \n",
       "2013-05-01  139.0  2131.0  ...  0.0  0.0  2945.0  1986.0  1652.0  1842.0   \n",
       "\n",
       "                54     55      56      57  \n",
       "2013-01-01  7814.0  205.0  2361.0  1704.0  \n",
       "2013-02-01  8556.0  234.0  3169.0  2063.0  \n",
       "2013-03-01  9117.0  205.0  2921.0  1944.0  \n",
       "2013-04-01  7275.0  212.0  2284.0  1466.0  \n",
       "2013-05-01  6948.0  728.0  2262.0  1545.0  \n",
       "\n",
       "[5 rows x 58 columns]"
      ]
     },
     "execution_count": 36,
     "metadata": {},
     "output_type": "execute_result"
    }
   ],
   "source": [
    "dates=pd.date_range(start = '2013-01-01',end='2015-10-01', freq = 'MS')\n",
    "ss_m_pivot.index=dates\n",
    "ss_m_pivot.head()"
   ]
  },
  {
   "cell_type": "code",
   "execution_count": 37,
   "metadata": {},
   "outputs": [],
   "source": [
    "def run_prophet(timeserie):\n",
    "    model = Prophet(yearly_seasonality=True,daily_seasonality=False,weekly_seasonality=False)\n",
    "    model.fit(timeserie)\n",
    "    forecast = model.make_future_dataframe(periods=1, include_history=True,freq='MS')\n",
    "    forecast = model.predict(forecast)\n",
    "    forecast=forecast[['ds', 'yhat']].tail(1)\n",
    "    return forecast"
   ]
  },
  {
   "cell_type": "code",
   "execution_count": 38,
   "metadata": {},
   "outputs": [],
   "source": [
    "start_time = time.time()\n",
    "df1_m=pd.DataFrame()\n",
    "for j in range(12,35):\n",
    "    ss_m_pivot_slice=ss_m_pivot[:j]\n",
    "    for i in range(1,59):\n",
    "        date=ss_m_pivot_slice.reset_index().iloc[:,0]\n",
    "        shop=ss_m_pivot_slice.reset_index().iloc[:,i]\n",
    "        ds=pd.concat([date, shop], axis=1)\n",
    "        ds.columns=['ds','y']\n",
    "        ds['ds']=pd.to_datetime(ds['ds'])\n",
    "        f=run_prophet(ds)\n",
    "        f['shop_id']=ss_m_pivot_slice.columns[i-1]\n",
    "        df1_m=df1_m.append(f)\n",
    "print(\"--- %s seconds ---\" % (time.time() - start_time))"
   ]
  },
  {
   "cell_type": "code",
   "execution_count": 39,
   "metadata": {},
   "outputs": [],
   "source": [
    "#df1_m.to_csv('store_monthly_pred.csv')"
   ]
  },
  {
   "cell_type": "code",
   "execution_count": 40,
   "metadata": {},
   "outputs": [],
   "source": [
    "ss_d_pivot=ss_d.pivot(index='date', columns='shop_id', values='item_cnt_day')\n",
    "ss_d_pivot.fillna(0,inplace=True)\n",
    "ss_d_pivot.columns=range(0,58)\n",
    "ss_d_pivot.reset_index(inplace=True)"
   ]
  },
  {
   "cell_type": "code",
   "execution_count": 42,
   "metadata": {},
   "outputs": [],
   "source": [
    "def run_prophet(timeserie):\n",
    "    model = Prophet(yearly_seasonality=True,daily_seasonality=False,weekly_seasonality=True)\n",
    "    model.add_country_holidays(country_name='RU')\n",
    "    model.fit(timeserie)\n",
    "    forecast = model.make_future_dataframe(periods=26, include_history=True)\n",
    "    forecast = model.predict(forecast)\n",
    "    forecast=forecast[['ds', 'yhat']].tail(26)\n",
    "    return forecast"
   ]
  },
  {
   "cell_type": "code",
   "execution_count": 43,
   "metadata": {},
   "outputs": [],
   "source": [
    "def run_prophet_last(timeserie):\n",
    "    model = Prophet(yearly_seasonality=True,daily_seasonality=False,weekly_seasonality=True)\n",
    "    model.add_country_holidays(country_name='RU')\n",
    "    model.fit(timeserie)\n",
    "    forecast = model.make_future_dataframe(periods=30, include_history=True)\n",
    "    forecast = model.predict(forecast)\n",
    "    forecast=forecast[['ds', 'yhat']].tail(30)\n",
    "    return forecast"
   ]
  },
  {
   "cell_type": "code",
   "execution_count": 44,
   "metadata": {},
   "outputs": [],
   "source": [
    "date=ss_d_pivot.iloc[:,0]\n",
    "shop=ss_d_pivot.iloc[:,1]\n",
    "ds=pd.concat([date, shop], axis=1)\n",
    "ds.columns=['ds','y']\n",
    "ds['ds']=pd.to_datetime(ds['ds'])\n",
    "f=run_prophet(ds)"
   ]
  },
  {
   "cell_type": "code",
   "execution_count": 45,
   "metadata": {},
   "outputs": [],
   "source": [
    "start_time = time.time()\n",
    "df1_d=pd.DataFrame()\n",
    "for j in range(13,40):\n",
    "    ss_d_pivot_slice=ss_d_pivot[:j*26]\n",
    "    for i in range(1,59):\n",
    "        date=ss_d_pivot_slice.iloc[:,0]\n",
    "        shop=ss_d_pivot_slice.iloc[:,i]\n",
    "        ds=pd.concat([date, shop], axis=1)\n",
    "        ds.columns=['ds','y']\n",
    "        ds['ds']=pd.to_datetime(ds['ds'])\n",
    "        if j!=39:\n",
    "            f=run_prophet(ds)\n",
    "        else:\n",
    "            f=run_prophet_last(ds)\n",
    "        f['shop_id']=ss_d_pivot_slice.columns[i]\n",
    "        df1_d=df1_d.append(f)\n",
    "print(\"--- %s seconds ---\" % (time.time() - start_time))"
   ]
  },
  {
   "cell_type": "code",
   "execution_count": 46,
   "metadata": {},
   "outputs": [],
   "source": [
    "#df1_d.to_csv('store_daily_pred.csv')"
   ]
  },
  {
   "cell_type": "code",
   "execution_count": 47,
   "metadata": {},
   "outputs": [],
   "source": [
    "store_daily_pred=pd.read_csv('store_daily_pred.csv',index_col=0)\n",
    "store_daily_pred['ds']=pd.to_datetime(store_daily_pred.ds)\n",
    "store_daily_pred['year_month']=store_daily_pred['ds'].dt.strftime('%Y-%m-%d').str[:7]\n",
    "store_daily_sum=store_daily_pred.groupby(['year_month','shop_id'])['yhat'].sum().reset_index()"
   ]
  },
  {
   "cell_type": "code",
   "execution_count": 48,
   "metadata": {},
   "outputs": [],
   "source": [
    "store_monthly_pred=pd.read_csv('store_monthly_pred.csv')\n",
    "store_monthly_pred['ds']=pd.to_datetime(store_monthly_pred.ds)\n",
    "store_monthly_pred['year_month']=store_monthly_pred['ds'].dt.strftime('%Y-%m-%d').str[:7]\n",
    "store_monthly_sum=store_monthly_pred.groupby(['year_month','shop_id'])['yhat'].sum().reset_index()"
   ]
  },
  {
   "cell_type": "code",
   "execution_count": 49,
   "metadata": {},
   "outputs": [],
   "source": [
    "store_merged=store_monthly_sum.merge(store_daily_sum,on=['year_month','shop_id'])\n",
    "store_merged=store_merged.merge(ss_m,on=['year_month','shop_id'],how='left')\n",
    "store_merged['item_cnt_day'].fillna(0,inplace=True)"
   ]
  },
  {
   "cell_type": "code",
   "execution_count": 50,
   "metadata": {},
   "outputs": [
    {
     "name": "stdout",
     "output_type": "stream",
     "text": [
      "5682164.536008327\n",
      "1852661.0221961804\n"
     ]
    }
   ],
   "source": [
    "mse_monthly_s=sum((store_merged.yhat_x[:-58]-store_merged.item_cnt_day[:-58])**2)/len(store_merged[:-58])\n",
    "print(mse_monthly_s)\n",
    "mse_daily_s=sum((store_merged.yhat_y[:-58]-store_merged.item_cnt_day[:-58])**2)/len(store_merged[:-58])\n",
    "print(mse_daily_s)"
   ]
  },
  {
   "cell_type": "markdown",
   "metadata": {},
   "source": [
    "### Weight and Store-Item Predictions"
   ]
  },
  {
   "cell_type": "code",
   "execution_count": 51,
   "metadata": {},
   "outputs": [],
   "source": [
    "date=ts_m.reset_index().iloc[:,1]\n",
    "shop=ts_m.reset_index().iloc[:,2]\n",
    "ds=pd.concat([date, shop], axis=1)\n",
    "ds.columns=['ds','y']\n",
    "ds['ds']=pd.to_datetime(ds['ds'])"
   ]
  },
  {
   "cell_type": "code",
   "execution_count": 52,
   "metadata": {},
   "outputs": [],
   "source": [
    "si_m=pd.read_csv('store_item_monthly.csv')"
   ]
  },
  {
   "cell_type": "code",
   "execution_count": 53,
   "metadata": {},
   "outputs": [
    {
     "data": {
      "text/html": [
       "<div>\n",
       "<style scoped>\n",
       "    .dataframe tbody tr th:only-of-type {\n",
       "        vertical-align: middle;\n",
       "    }\n",
       "\n",
       "    .dataframe tbody tr th {\n",
       "        vertical-align: top;\n",
       "    }\n",
       "\n",
       "    .dataframe thead th {\n",
       "        text-align: right;\n",
       "    }\n",
       "</style>\n",
       "<table border=\"1\" class=\"dataframe\">\n",
       "  <thead>\n",
       "    <tr style=\"text-align: right;\">\n",
       "      <th></th>\n",
       "      <th>shop_id</th>\n",
       "      <th>year_month</th>\n",
       "      <th>item_cnt_day</th>\n",
       "      <th>store_cum</th>\n",
       "    </tr>\n",
       "  </thead>\n",
       "  <tbody>\n",
       "    <tr>\n",
       "      <th>0</th>\n",
       "      <td>0</td>\n",
       "      <td>2013-01</td>\n",
       "      <td>3626.0</td>\n",
       "      <td>3626.0</td>\n",
       "    </tr>\n",
       "    <tr>\n",
       "      <th>1</th>\n",
       "      <td>0</td>\n",
       "      <td>2013-02</td>\n",
       "      <td>3957.0</td>\n",
       "      <td>7583.0</td>\n",
       "    </tr>\n",
       "    <tr>\n",
       "      <th>2</th>\n",
       "      <td>0</td>\n",
       "      <td>2013-03</td>\n",
       "      <td>403.0</td>\n",
       "      <td>7986.0</td>\n",
       "    </tr>\n",
       "    <tr>\n",
       "      <th>3</th>\n",
       "      <td>0</td>\n",
       "      <td>2013-04</td>\n",
       "      <td>473.0</td>\n",
       "      <td>8459.0</td>\n",
       "    </tr>\n",
       "    <tr>\n",
       "      <th>4</th>\n",
       "      <td>0</td>\n",
       "      <td>2013-05</td>\n",
       "      <td>465.0</td>\n",
       "      <td>8924.0</td>\n",
       "    </tr>\n",
       "    <tr>\n",
       "      <th>...</th>\n",
       "      <td>...</td>\n",
       "      <td>...</td>\n",
       "      <td>...</td>\n",
       "      <td>...</td>\n",
       "    </tr>\n",
       "    <tr>\n",
       "      <th>1672</th>\n",
       "      <td>59</td>\n",
       "      <td>2015-06</td>\n",
       "      <td>905.0</td>\n",
       "      <td>44643.0</td>\n",
       "    </tr>\n",
       "    <tr>\n",
       "      <th>1673</th>\n",
       "      <td>59</td>\n",
       "      <td>2015-07</td>\n",
       "      <td>976.0</td>\n",
       "      <td>45619.0</td>\n",
       "    </tr>\n",
       "    <tr>\n",
       "      <th>1674</th>\n",
       "      <td>59</td>\n",
       "      <td>2015-08</td>\n",
       "      <td>1199.0</td>\n",
       "      <td>46818.0</td>\n",
       "    </tr>\n",
       "    <tr>\n",
       "      <th>1675</th>\n",
       "      <td>59</td>\n",
       "      <td>2015-09</td>\n",
       "      <td>758.0</td>\n",
       "      <td>47576.0</td>\n",
       "    </tr>\n",
       "    <tr>\n",
       "      <th>1676</th>\n",
       "      <td>59</td>\n",
       "      <td>2015-10</td>\n",
       "      <td>799.0</td>\n",
       "      <td>48375.0</td>\n",
       "    </tr>\n",
       "  </tbody>\n",
       "</table>\n",
       "<p>1677 rows × 4 columns</p>\n",
       "</div>"
      ],
      "text/plain": [
       "      shop_id year_month  item_cnt_day  store_cum\n",
       "0           0    2013-01        3626.0     3626.0\n",
       "1           0    2013-02        3957.0     7583.0\n",
       "2           0    2013-03         403.0     7986.0\n",
       "3           0    2013-04         473.0     8459.0\n",
       "4           0    2013-05         465.0     8924.0\n",
       "...       ...        ...           ...        ...\n",
       "1672       59    2015-06         905.0    44643.0\n",
       "1673       59    2015-07         976.0    45619.0\n",
       "1674       59    2015-08        1199.0    46818.0\n",
       "1675       59    2015-09         758.0    47576.0\n",
       "1676       59    2015-10         799.0    48375.0\n",
       "\n",
       "[1677 rows x 4 columns]"
      ]
     },
     "execution_count": 53,
     "metadata": {},
     "output_type": "execute_result"
    }
   ],
   "source": [
    "#cumsum for each store\n",
    "store_tot=si_m.groupby(['shop_id','year_month'])['item_cnt_day'].sum().reset_index()\n",
    "store_tot['store_cum']=store_tot.groupby(['shop_id'])['item_cnt_day'].apply(lambda x: x.cumsum())\n",
    "store_tot"
   ]
  },
  {
   "cell_type": "code",
   "execution_count": 54,
   "metadata": {},
   "outputs": [],
   "source": [
    "#cumsum for each item\n",
    "si_m['item_cum']=si_m.groupby(['item_id'])['item_cnt_day'].apply(lambda x: x.cumsum())"
   ]
  },
  {
   "cell_type": "code",
   "execution_count": 55,
   "metadata": {},
   "outputs": [],
   "source": [
    "#cumsum for entire company\n",
    "company_tot=si_m.groupby('year_month')['item_cnt_day'].sum().reset_index()\n",
    "company_tot['company_cum']=company_tot['item_cnt_day'].cumsum()"
   ]
  },
  {
   "cell_type": "code",
   "execution_count": 56,
   "metadata": {},
   "outputs": [],
   "source": [
    "merged=store_tot.merge(company_tot,on='year_month')"
   ]
  },
  {
   "cell_type": "code",
   "execution_count": 57,
   "metadata": {},
   "outputs": [],
   "source": [
    "merged=merged.merge(si_m,on=['year_month','shop_id'])"
   ]
  },
  {
   "cell_type": "code",
   "execution_count": 58,
   "metadata": {},
   "outputs": [],
   "source": [
    "merged=merged[['year_month','item_id','shop_id','item_cum','store_cum','company_cum']]"
   ]
  },
  {
   "cell_type": "code",
   "execution_count": 59,
   "metadata": {},
   "outputs": [],
   "source": [
    "#item_store percentage\n",
    "merged['item_store_pct']=merged['item_cum']/merged['store_cum']"
   ]
  },
  {
   "cell_type": "code",
   "execution_count": 60,
   "metadata": {},
   "outputs": [],
   "source": [
    "#item_company percentage\n",
    "merged['item_company_pct']=merged['item_cum']/merged['company_cum']"
   ]
  },
  {
   "cell_type": "code",
   "execution_count": 61,
   "metadata": {},
   "outputs": [],
   "source": [
    "from dateutil.relativedelta import relativedelta"
   ]
  },
  {
   "cell_type": "code",
   "execution_count": 62,
   "metadata": {},
   "outputs": [],
   "source": [
    "one_mon_rel = relativedelta(months=1)\n",
    "merged['shifted_date']=pd.to_datetime(merged['year_month'],format='%Y-%m').apply(lambda x: x+one_mon_rel)\n",
    "merged['shifted_year_month']=merged['shifted_date'].dt.strftime('%Y-%m-%d').str[:7]"
   ]
  },
  {
   "cell_type": "code",
   "execution_count": 63,
   "metadata": {},
   "outputs": [],
   "source": [
    "month_list=list(store_merged.year_month.unique())"
   ]
  },
  {
   "cell_type": "code",
   "execution_count": 64,
   "metadata": {},
   "outputs": [],
   "source": [
    "mse_store_level=[]\n",
    "for i in range(len(month_list)-1):\n",
    "    m_store=store_merged[store_merged.year_month<=month_list[i]]\n",
    "    m=merged[merged.shifted_year_month<=month_list[i]]\n",
    "    m_all=m_store.merge(m,left_on=['year_month','shop_id'],right_on=['shifted_year_month','shop_id'])\n",
    "    m_all=m_all[m_all.shifted_year_month==month_list[i]]\n",
    "    m_all['pred_item']=m_all['yhat_y']*m_all['item_store_pct']\n",
    "    mse_store_level.append(np.sum((m_all['pred_item']-m_all['item_cnt_day'])**2)/len(m_all))"
   ]
  },
  {
   "cell_type": "code",
   "execution_count": 65,
   "metadata": {},
   "outputs": [
    {
     "data": {
      "text/plain": [
       "[25200631.4868256,\n",
       " 17369642.27051333,\n",
       " 15829794.487637226,\n",
       " 13225191.491328854,\n",
       " 14047191.351989122,\n",
       " 13513335.666256137,\n",
       " 12212575.149586804,\n",
       " 16087346.24400519,\n",
       " 12922568.32076713,\n",
       " 10580247.092625853,\n",
       " 18152549.41444627,\n",
       " 38642509.74129604,\n",
       " 7542621.162476862,\n",
       " 8734222.558202334,\n",
       " 8199879.589453535,\n",
       " 8979878.665928476,\n",
       " 8944902.945538472,\n",
       " 7472707.840798662,\n",
       " 7029287.80641933,\n",
       " 7064173.362731922,\n",
       " 6636706.255448126,\n",
       " 7718111.959277189]"
      ]
     },
     "execution_count": 65,
     "metadata": {},
     "output_type": "execute_result"
    }
   ],
   "source": [
    "mse_store_level"
   ]
  },
  {
   "cell_type": "code",
   "execution_count": 66,
   "metadata": {},
   "outputs": [],
   "source": [
    "mse_company_level=[]\n",
    "for i in range(len(month_list)-1):\n",
    "    m_company=f_company[f_company.year_month<=month_list[i]]\n",
    "    m=merged[merged.shifted_year_month<=month_list[i]]\n",
    "    m_all=m_company.merge(m,left_on=['year_month'],right_on=['shifted_year_month'])\n",
    "    m_all=m_all[m_all.shifted_year_month==month_list[i]]\n",
    "    m_all['pred_item']=m_all['yhat_y']*m_all['item_company_pct']\n",
    "    mse_company_level.append(np.sum((m_all['pred_item']-m_all['item_cnt_day'])**2)/len(m_all))"
   ]
  },
  {
   "cell_type": "code",
   "execution_count": 67,
   "metadata": {},
   "outputs": [
    {
     "data": {
      "text/plain": [
       "[0.0,\n",
       " 10734650237.482512,\n",
       " 10950356801.830568,\n",
       " 9301044401.535297,\n",
       " 10391432762.687798,\n",
       " 8819659195.445967,\n",
       " 8223541393.67008,\n",
       " 10621079289.288626,\n",
       " 9168084783.163567,\n",
       " 7064973250.704828,\n",
       " 12121588041.968786,\n",
       " 24843236170.038822,\n",
       " 5383709807.021777,\n",
       " 5705818519.148341,\n",
       " 5063161598.832216,\n",
       " 5510285437.824575,\n",
       " 4860261526.019634,\n",
       " 3588761213.483155,\n",
       " 3688098676.6351757,\n",
       " 4203086033.807118,\n",
       " 3919260134.817824,\n",
       " 3646194498.3844523]"
      ]
     },
     "execution_count": 67,
     "metadata": {},
     "output_type": "execute_result"
    }
   ],
   "source": [
    "mse_company_level"
   ]
  },
  {
   "cell_type": "code",
   "execution_count": 68,
   "metadata": {},
   "outputs": [],
   "source": [
    "##we found that the prediction on store level using daily data returns the best result."
   ]
  },
  {
   "cell_type": "code",
   "execution_count": 69,
   "metadata": {},
   "outputs": [],
   "source": [
    "m_store=store_merged[store_merged.year_month=='2015-11']\n",
    "m=merged[merged.shifted_year_month=='2015-11']\n",
    "m_all=m_store.merge(m,left_on=['year_month','shop_id'],right_on=['shifted_year_month','shop_id'])\n",
    "m_all['pred_item']=m_all['yhat_y']*m_all['item_store_pct']"
   ]
  },
  {
   "cell_type": "code",
   "execution_count": 70,
   "metadata": {},
   "outputs": [
    {
     "data": {
      "text/html": [
       "<div>\n",
       "<style scoped>\n",
       "    .dataframe tbody tr th:only-of-type {\n",
       "        vertical-align: middle;\n",
       "    }\n",
       "\n",
       "    .dataframe tbody tr th {\n",
       "        vertical-align: top;\n",
       "    }\n",
       "\n",
       "    .dataframe thead th {\n",
       "        text-align: right;\n",
       "    }\n",
       "</style>\n",
       "<table border=\"1\" class=\"dataframe\">\n",
       "  <thead>\n",
       "    <tr style=\"text-align: right;\">\n",
       "      <th></th>\n",
       "      <th>shop_id</th>\n",
       "      <th>item_id</th>\n",
       "      <th>year_month_x</th>\n",
       "      <th>pred_item</th>\n",
       "    </tr>\n",
       "  </thead>\n",
       "  <tbody>\n",
       "    <tr>\n",
       "      <th>0</th>\n",
       "      <td>2</td>\n",
       "      <td>31</td>\n",
       "      <td>2015-11</td>\n",
       "      <td>0.677840</td>\n",
       "    </tr>\n",
       "    <tr>\n",
       "      <th>1</th>\n",
       "      <td>2</td>\n",
       "      <td>67</td>\n",
       "      <td>2015-11</td>\n",
       "      <td>0.058943</td>\n",
       "    </tr>\n",
       "    <tr>\n",
       "      <th>2</th>\n",
       "      <td>2</td>\n",
       "      <td>486</td>\n",
       "      <td>2015-11</td>\n",
       "      <td>0.412598</td>\n",
       "    </tr>\n",
       "    <tr>\n",
       "      <th>3</th>\n",
       "      <td>2</td>\n",
       "      <td>787</td>\n",
       "      <td>2015-11</td>\n",
       "      <td>0.058943</td>\n",
       "    </tr>\n",
       "    <tr>\n",
       "      <th>4</th>\n",
       "      <td>2</td>\n",
       "      <td>792</td>\n",
       "      <td>2015-11</td>\n",
       "      <td>0.412598</td>\n",
       "    </tr>\n",
       "    <tr>\n",
       "      <th>...</th>\n",
       "      <td>...</td>\n",
       "      <td>...</td>\n",
       "      <td>...</td>\n",
       "      <td>...</td>\n",
       "    </tr>\n",
       "    <tr>\n",
       "      <th>31350</th>\n",
       "      <td>56</td>\n",
       "      <td>22102</td>\n",
       "      <td>2015-11</td>\n",
       "      <td>25.553977</td>\n",
       "    </tr>\n",
       "    <tr>\n",
       "      <th>31351</th>\n",
       "      <td>56</td>\n",
       "      <td>22104</td>\n",
       "      <td>2015-11</td>\n",
       "      <td>4.512379</td>\n",
       "    </tr>\n",
       "    <tr>\n",
       "      <th>31352</th>\n",
       "      <td>56</td>\n",
       "      <td>22105</td>\n",
       "      <td>2015-11</td>\n",
       "      <td>1.439433</td>\n",
       "    </tr>\n",
       "    <tr>\n",
       "      <th>31353</th>\n",
       "      <td>56</td>\n",
       "      <td>22106</td>\n",
       "      <td>2015-11</td>\n",
       "      <td>1.859941</td>\n",
       "    </tr>\n",
       "    <tr>\n",
       "      <th>31354</th>\n",
       "      <td>56</td>\n",
       "      <td>22118</td>\n",
       "      <td>2015-11</td>\n",
       "      <td>1.762901</td>\n",
       "    </tr>\n",
       "  </tbody>\n",
       "</table>\n",
       "<p>31355 rows × 4 columns</p>\n",
       "</div>"
      ],
      "text/plain": [
       "       shop_id  item_id year_month_x  pred_item\n",
       "0            2       31      2015-11   0.677840\n",
       "1            2       67      2015-11   0.058943\n",
       "2            2      486      2015-11   0.412598\n",
       "3            2      787      2015-11   0.058943\n",
       "4            2      792      2015-11   0.412598\n",
       "...        ...      ...          ...        ...\n",
       "31350       56    22102      2015-11  25.553977\n",
       "31351       56    22104      2015-11   4.512379\n",
       "31352       56    22105      2015-11   1.439433\n",
       "31353       56    22106      2015-11   1.859941\n",
       "31354       56    22118      2015-11   1.762901\n",
       "\n",
       "[31355 rows x 4 columns]"
      ]
     },
     "execution_count": 70,
     "metadata": {},
     "output_type": "execute_result"
    }
   ],
   "source": [
    "m_all[['shop_id','item_id','year_month_x','pred_item']]"
   ]
  }
 ],
 "metadata": {
  "kernelspec": {
   "display_name": "Python 3",
   "language": "python",
   "name": "python3"
  },
  "language_info": {
   "codemirror_mode": {
    "name": "ipython",
    "version": 3
   },
   "file_extension": ".py",
   "mimetype": "text/x-python",
   "name": "python",
   "nbconvert_exporter": "python",
   "pygments_lexer": "ipython3",
   "version": "3.7.6"
  }
 },
 "nbformat": 4,
 "nbformat_minor": 4
}
